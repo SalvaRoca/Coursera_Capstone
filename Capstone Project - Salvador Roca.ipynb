{
 "cells": [
  {
   "cell_type": "markdown",
   "metadata": {},
   "source": [
    "# Capstone Project - The Battle of Neighborhoods"
   ]
  },
  {
   "cell_type": "markdown",
   "metadata": {},
   "source": [
    "#### Salvador Roca  Guillén - IBM Professional Data Science Certification"
   ]
  },
  {
   "cell_type": "markdown",
   "metadata": {},
   "source": [
    "## 1. Problem definition and data sources"
   ]
  },
  {
   "cell_type": "markdown",
   "metadata": {},
   "source": [
    "A close friend of us is running a fast food business in Sacramento and, as his company is generating great profit, he has the intention to make his business grow by **expanding to San Francisco**. As he know we have studied a *comprehensive Data Science course endorsed by IBM*, he is asking us to perform an deep analysis with the objective of **determining the best zones of the city to establish the first restaurant** in the city."
   ]
  },
  {
   "cell_type": "markdown",
   "metadata": {},
   "source": [
    "To perform this analysis, we will need some information:\n",
    "- **San Francisco geographical data**, which can be found in the link below. With this information, we will be able to identify the different **zones of the city** and represent the data in a visual manner by generating a **Choropleth maps**: https://data.sfgov.org/api/views/srq6-hmpi/rows.csv?accessType=DOWNLOAD\n",
    "- **Population by ZIP code**; it is interesting to select the zones with the higher population density in order to generate a higher demand. This information can be found in the next webpage: https://www.zip-codes.com/city/ca-san-francisco.asp\n",
    "- Data of all **different businesses in each zone of San Francisco**. We will filter the data to consider only the type of business that can be a competitive threat for the restaurant. The main source to obtain this information ***Foursquare*** database."
   ]
  }
 ],
 "metadata": {
  "kernelspec": {
   "display_name": "Python 3",
   "language": "python",
   "name": "python3"
  },
  "language_info": {
   "codemirror_mode": {
    "name": "ipython",
    "version": 3
   },
   "file_extension": ".py",
   "mimetype": "text/x-python",
   "name": "python",
   "nbconvert_exporter": "python",
   "pygments_lexer": "ipython3",
   "version": "3.6.8"
  }
 },
 "nbformat": 4,
 "nbformat_minor": 2
}
